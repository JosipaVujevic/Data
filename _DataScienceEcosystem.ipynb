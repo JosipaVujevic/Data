{
 "cells": [
  {
   "cell_type": "markdown",
   "id": "f86294e6-c8e4-4431-8b51-a81d1861ac38",
   "metadata": {},
   "source": [
    "# Data Science Tools and Ecosystem"
   ]
  },
  {
   "cell_type": "markdown",
   "id": "76d5c962-4df9-4bec-9977-4afa0f27e776",
   "metadata": {},
   "source": [
    "In this notebook, Data Science Tools and Ecosystem are summarized."
   ]
  },
  {
   "cell_type": "markdown",
   "id": "5d31f2cf-fc2b-484e-9e83-d5099d13cb46",
   "metadata": {},
   "source": [
    "__Objectives:__\n",
    "- List popular languages for Data Science\n",
    "- Name and explain Data Science Tasks\n",
    "- Name Open Source Tools for each Task"
   ]
  },
  {
   "cell_type": "markdown",
   "id": "a9b11319-7865-484d-a8c8-2d067eb8f8d0",
   "metadata": {},
   "source": [
    "Some of the popular languages that Data Scientists use are:\n",
    "\n",
    "1. Python\n",
    "2. R\n",
    "3. Julia"
   ]
  },
  {
   "cell_type": "markdown",
   "id": "21e0025f-7280-48e9-b1fe-4fe953b5ef28",
   "metadata": {},
   "source": [
    "Some of the commonly used libraries used by Data Scientists include:\n",
    "1. Pandas (Python)\n",
    "2. Matplotlib (Python)\n",
    "3. dplyr (R)\n",
    "4. caret (R)"
   ]
  },
  {
   "cell_type": "markdown",
   "id": "830cee9b-2866-448e-9ef6-00913332e63b",
   "metadata": {},
   "source": [
    "|Data Science Tools|\n",
    "|------------------|\n",
    "|Jupyter| \n",
    "|R Studio |\n",
    "|Zeppelin |"
   ]
  },
  {
   "cell_type": "markdown",
   "id": "4f8a1ca2-84c8-4eb1-a7e7-80261aae5379",
   "metadata": {},
   "source": [
    "### Below are a few examples of evaluating arithmetic expressions in Python.\n"
   ]
  },
  {
   "cell_type": "code",
   "execution_count": 5,
   "id": "9ef161c5-4c97-4348-825d-ce60c8fc955c",
   "metadata": {},
   "outputs": [
    {
     "data": {
      "text/plain": [
       "17"
      ]
     },
     "execution_count": 5,
     "metadata": {},
     "output_type": "execute_result"
    }
   ],
   "source": [
    "#This a simple arithmetic expression to mutiply then add integers\n",
    "(3*4)+5"
   ]
  },
  {
   "cell_type": "code",
   "execution_count": 6,
   "id": "d8007494-6743-4514-9daf-f7174512ef08",
   "metadata": {},
   "outputs": [
    {
     "data": {
      "text/plain": [
       "3.3333333333333335"
      ]
     },
     "execution_count": 6,
     "metadata": {},
     "output_type": "execute_result"
    }
   ],
   "source": [
    "#This will convert 200 minutes to hours by diving by 60\n",
    "min = 200\n",
    "hours = min / 60\n",
    "hours"
   ]
  },
  {
   "cell_type": "markdown",
   "id": "2e3023fe-beaa-482f-bea9-85dd061848c6",
   "metadata": {},
   "source": [
    "## Author \n",
    "Josipa Vujević"
   ]
  },
  {
   "cell_type": "code",
   "execution_count": null,
   "id": "04a5d415-4665-415f-8b9e-56d5b2ffdf65",
   "metadata": {},
   "outputs": [],
   "source": []
  }
 ],
 "metadata": {
  "kernelspec": {
   "display_name": "Python 3 (ipykernel)",
   "language": "python",
   "name": "python3"
  },
  "language_info": {
   "codemirror_mode": {
    "name": "ipython",
    "version": 3
   },
   "file_extension": ".py",
   "mimetype": "text/x-python",
   "name": "python",
   "nbconvert_exporter": "python",
   "pygments_lexer": "ipython3",
   "version": "3.12.1"
  }
 },
 "nbformat": 4,
 "nbformat_minor": 5
}
